{
 "cells": [
  {
   "cell_type": "code",
   "execution_count": null,
   "id": "6bb22a60",
   "metadata": {},
   "outputs": [],
   "source": [
    "## 安装环境\n",
    "!npm view n8n versions\n",
    "!npm -g list\n",
    "!npm -g install n8n@1.98.0\n",
    "!npm run build\n",
    "!N8N_PORT=8080 n8n start\n",
    "\n",
    "## vscode launch.json 开启调试\n"
   ]
  },
  {
   "cell_type": "code",
   "execution_count": null,
   "id": "fd88dd14",
   "metadata": {},
   "outputs": [],
   "source": [
    "## 服务登陆\n",
    "'''\n",
    "email: heiyexinghai@gmail.com\n",
    "password: g3g5NU4mbDsAktz\n",
    "'''"
   ]
  }
 ],
 "metadata": {
  "kernelspec": {
   "display_name": "base",
   "language": "python",
   "name": "python3"
  },
  "language_info": {
   "codemirror_mode": {
    "name": "ipython",
    "version": 3
   },
   "file_extension": ".py",
   "mimetype": "text/x-python",
   "name": "python",
   "nbconvert_exporter": "python",
   "pygments_lexer": "ipython3",
   "version": "3.12.2"
  }
 },
 "nbformat": 4,
 "nbformat_minor": 5
}
